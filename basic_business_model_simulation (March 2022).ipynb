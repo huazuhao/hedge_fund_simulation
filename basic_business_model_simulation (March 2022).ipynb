{
 "cells": [
  {
   "cell_type": "markdown",
   "id": "e4141b75",
   "metadata": {},
   "source": [
    "## Intro\n",
    "\n",
    "<br>\n",
    "We want to simulate a new type of hedge fund model. \n",
    "<br>\n",
    "We want to improve two points in the current hedge fund industry. \n",
    "<br>\n",
    "<br/>\n",
    "\n",
    "--First, we want to have a model that discourages short term thinking \n",
    "and encourages long term thinking. We want to have a model that ensures\n",
    "the traders/strategy developers aim for maximizing total reward on a time horizon of 10+ years \n",
    "from the start. In other words, maximizing one year return and aiming for high year-end bonus is \n",
    "structurally discouraged. \n",
    "<br>\n",
    "<br>\n",
    "--Second, we think the best use of a hedge fund's profit is not paying a strar trader/strategy \n",
    "developer millions of dollars in compensation. We are not against high pay. However, we think \n",
    "accumulating money after certain level has diminishing return on the society as a whole. \n",
    "We think one way for better use of the profit of a hedge fund for the society as a whole \n",
    "is to expand the human knowledge frontier and educate the next generation. "
   ]
  },
  {
   "cell_type": "markdown",
   "id": "7252c76a",
   "metadata": {},
   "source": [
    "## Solution\n",
    "\n",
    "<br>\n",
    "Here, we want to solve the two problems mentioned. \n",
    "\n",
    "<br>\n",
    "<br/>\n",
    "* How to better distribute profit?\n",
    "<br>\n",
    "The hedge fund will invite professors to join the hedge fund. In a traditional 2-20 hedge fund pay\n",
    "structure, the hedge fund will receive the 2 percent management fee, and the 20 percent performance \n",
    "fee will go to the professors' research groups in the university. \n",
    "<br>\n",
    "Suppose a professor takes a leave of absence from a university for 1 year or takes a \n",
    "sabbatical leave and decides to join the hedge fund during the leave period, the professor \n",
    "would work along with in house scientists and develop new quantative trading strategies. \n",
    "Of course, no trading strategy would work forever. However, during the period when the \n",
    "strategy is generating high returns, most of the returns would go to the professor's research \n",
    "group in the home university. Some of the returns would be given back to professors who had previously served as\n",
    "visiting scientists at the hedge fund. \n",
    "<br>\n",
    "In the end of this simulation, we showed that the hedge fund would be able to donate to 250 distinct research\n",
    "groups and on average a research group would receive 1.8 million in 10 years. \n",
    "\n",
    "\n",
    "<br>\n",
    "<br/>\n",
    "* How to ensure the objective is long term total return?\n",
    "<br>\n",
    "A professor's research group would receive donations from two sources. Returns from strategies developed while serving as a visiting scientist and returns from strategies developed from other professors who later joined the hedge fund. Therefore, a research group's total donations would be the sum of many years of return. Some may come from his/her own strategies and some may come from other professors. \n",
    "<br>\n",
    "Therefore, a professor would not be incentivized to develop regime-specific quantative strategies and maximize short term profit and risk future return because the professor knows that his/her research group would continue to receive donations based on strategies developed by future visiting scientists, which relies on good capital appreciation/perservation from previous generations' visiting scientists/professors. \n",
    "\n",
    "<br>\n",
    "<br/>\n",
    "* Extra benefit from this hedge fund structure. \n",
    "<br>\n",
    "The hedge fund is now consistently incorporating the newest ideas. The hedge fund should have a competative advantage for its quantative strageties. \n",
    "The hedge fund would benefit from two perspectives. First, the professors would come from different universities \n",
    "and different academic disciplines. Combining the best ideas from different places should be a plus. \n",
    "Second, the professors would join the hedge fund as visiting scientists on a rolling basis. Therefore, \n",
    "the professors would continually bring newsest ideas to the hedge fund. "
   ]
  },
  {
   "cell_type": "markdown",
   "id": "cfc67352",
   "metadata": {},
   "source": [
    "## Simulation\n",
    "<br>\n",
    "Now, we will simulate a hedge based on this structure. \n",
    "<br>\n",
    "* We will simulate the frequency of new visiting professors as a random process. \n",
    "<br>\n",
    "* We will assume minimal start up capital and simulate new capital injection for the hedge fund as a random process. \n",
    "<br>\n",
    "* We will simulate the success of new quantative strategies as a random process. \n",
    "<br>\n",
    "* we will also allow for variable market conditions during the simulation. \n",
    "<br>\n",
    "Finally, we will look at the total return for the hedge fund and total donation to university research groups. \n",
    "<br>\n",
    "The simulation length is 10 years."
   ]
  },
  {
   "cell_type": "markdown",
   "id": "4bee4de4",
   "metadata": {},
   "source": [
    "Note:\n",
    "1. Throughout this simulation, the unit is million of USD"
   ]
  },
  {
   "cell_type": "code",
   "execution_count": 1,
   "id": "8fda7bb6",
   "metadata": {},
   "outputs": [],
   "source": [
    "import random\n",
    "random.seed(1)\n",
    "import matplotlib.pyplot as plt\n",
    "plt.rcParams[\"figure.figsize\"] = (10,6)\n",
    "import numpy as np"
   ]
  },
  {
   "cell_type": "markdown",
   "id": "4a1c89d3",
   "metadata": {},
   "source": [
    "# Frequency of new visiting professors as a random process."
   ]
  },
  {
   "cell_type": "code",
   "execution_count": 2,
   "id": "7eaf98fd",
   "metadata": {},
   "outputs": [
    {
     "data": {
      "image/png": "[encoded data removed]",
      "text/plain": [
       "<Figure size 720x432 with 1 Axes>"
      ]
     },
     "metadata": {
      "needs_background": "light"
     },
     "output_type": "display_data"
    }
   ],
   "source": [
    "# We suppose there will be new visiting scientists each quarter. \n",
    "# The main thrust of is that we assume as the platform \n",
    "# becomes more mature, the number of new visiting scientists per quarter\n",
    "# increases until some upper bound. \n",
    "\n",
    "#parameters\n",
    "num_of_new_incoming_scientists_lower_bound_base = 1 #in unit of number\n",
    "num_of_new_incoming_scientists_upper_bound_base = 5 #in unit of number\n",
    "new_incoming_scientists_ramp_up_rate = int(1.5) #in unit of number per quarter\n",
    "max_of_num_of_new_incoming_scientists = 10 #in unit of number\n",
    "\n",
    "quarter_indices = []\n",
    "num_of_new_incoming_scientists_lower_bound = []\n",
    "num_of_new_incoming_scientists_upper_bound = []\n",
    "\n",
    "for current_quarter_index in range(0,20):\n",
    "    quarter_indices.append(current_quarter_index)\n",
    "    num_of_new_incoming_scientists_lower_bound.append(min(num_of_new_incoming_scientists_lower_bound_base+\\\n",
    "                                                      new_incoming_scientists_ramp_up_rate*current_quarter_index,\\\n",
    "                                                      max_of_num_of_new_incoming_scientists))\n",
    "    num_of_new_incoming_scientists_upper_bound.append(min(num_of_new_incoming_scientists_upper_bound_base+\\\n",
    "                                                      new_incoming_scientists_ramp_up_rate*current_quarter_index,\\\n",
    "                                                      max_of_num_of_new_incoming_scientists))\n",
    "    \n",
    "    \n",
    "    \n",
    "plt.plot(quarter_indices,num_of_new_incoming_scientists_lower_bound,label = 'lower_bound')\n",
    "plt.plot(quarter_indices,num_of_new_incoming_scientists_upper_bound,label = 'upper_bound')\n",
    "plt.xlabel(\"current_quarter_index\")\n",
    "plt.ylabel(\"range of new incoming scientists\")\n",
    "plt.legend()\n",
    "plt.show()\n",
    "\n",
    "def generate_num_of_new_incoming_scientists(current_quarter_index,\\\n",
    "                                            num_of_new_incoming_scientists_lower_bound_base,\\\n",
    "                                            num_of_new_incoming_scientists_upper_bound_base,\\\n",
    "                                            new_incoming_scientists_ramp_up_rate,\\\n",
    "                                            max_of_num_of_new_incoming_scientists):\n",
    "    \n",
    "    num_lower_bound = min(num_of_new_incoming_scientists_lower_bound_base+\\\n",
    "                      new_incoming_scientists_ramp_up_rate*current_quarter_index,\\\n",
    "                      max_of_num_of_new_incoming_scientists)\n",
    "    \n",
    "    num_upper_bound = min(num_of_new_incoming_scientists_upper_bound_base+\\\n",
    "                      new_incoming_scientists_ramp_up_rate*current_quarter_index,\\\n",
    "                      max_of_num_of_new_incoming_scientists)\n",
    "\n",
    "    return random.randint(num_lower_bound, num_upper_bound)"
   ]
  },
  {
   "cell_type": "markdown",
   "id": "08c79e9f",
   "metadata": {},
   "source": [
    "# Simulate the new capital for the hedge fund as a random process."
   ]
  },
  {
   "cell_type": "code",
   "execution_count": 3,
   "id": "2fbcede0",
   "metadata": {},
   "outputs": [
    {
     "data": {
      "image/png": "[encoded data removed]",
      "text/plain": [
       "<Figure size 720x432 with 1 Axes>"
      ]
     },
     "metadata": {
      "needs_background": "light"
     },
     "output_type": "display_data"
    }
   ],
   "source": [
    "# we suppose the probability of successfully finding new investor \n",
    "# per quarter as a function of time follows the following function. \n",
    "# The main thrust of this function is that we assume as the platform \n",
    "# becomes more mature, the probability increases until some upper bound. \n",
    "\n",
    "#parameters\n",
    "new_capital_ramping_up_rate = 0.05 #in unit of probability per quarter\n",
    "new_capital_base_prob = 0.25 #in unit of probability\n",
    "new_capital_distribution_bounds = [10, 500] #in unit of millions\n",
    "max_prob_new_capital_per_quarter = 0.5 #in unit of probability\n",
    "\n",
    "quarter_indices = []\n",
    "prob_of_receiving_new_capital_per_quarter = []\n",
    "for current_quarter_index in range(0,20):\n",
    "    quarter_indices.append(current_quarter_index)\n",
    "    prob_of_receiving_new_capital_per_quarter.append(min(new_capital_base_prob+new_capital_ramping_up_rate*current_quarter_index,\\\n",
    "                                                         max_prob_new_capital_per_quarter))\n",
    "\n",
    "plt.plot(quarter_indices,prob_of_receiving_new_capital_per_quarter)\n",
    "plt.xlabel(\"current_quarter_index\")\n",
    "plt.ylabel(\"probability_of_receiving_new_capital\")\n",
    "plt.show()\n",
    "\n",
    "def prob_of_new_capital(current_quarter_index,\\\n",
    "                        new_capital_base_prob,\\\n",
    "                        new_capital_ramping_up_rate,\\\n",
    "                        max_prob_new_capital_per_quarter):\n",
    "    \n",
    "    prob_of_receiving_new_capital = min(new_capital_base_prob+new_capital_ramping_up_rate*current_quarter_index,\\\n",
    "                                        max_prob_new_capital_per_quarter)\n",
    "    \n",
    "    prob_of_not_receiving_new_capital = 1-prob_of_receiving_new_capital\n",
    "    \n",
    "    r = random.choices([True,False],\\\n",
    "                       weights = [prob_of_receiving_new_capital,prob_of_not_receiving_new_capital])\n",
    "    return r[0]\n",
    "    \n",
    "    "
   ]
  },
  {
   "cell_type": "markdown",
   "id": "23d59480",
   "metadata": {},
   "source": [
    "# Simulate the success of new quantative strategies as a random process."
   ]
  },
  {
   "cell_type": "code",
   "execution_count": 4,
   "id": "a86d4980",
   "metadata": {},
   "outputs": [
    {
     "data": {
      "image/png": "[encoded data removed]",
      "text/plain": [
       "<Figure size 720x432 with 1 Axes>"
      ]
     },
     "metadata": {
      "needs_background": "light"
     },
     "output_type": "display_data"
    }
   ],
   "source": [
    "# we suppose the probability of successfully inventing a new strategy\n",
    "# per quarter per research group as a function of time follows the following function. \n",
    "# The main thrust of this function is that we assume as the platform \n",
    "# becomes more mature, the probability increases until some upper bound. \n",
    "\n",
    "#parameters\n",
    "max_prob_new_strategy_per_quarter = 0.5 #in unit of probability\n",
    "new_strategy_ramping_up_rate = 0.1 #in unit of probability per quarter\n",
    "new_strategy_base_prob = 0.25 #in unit of probability\n",
    "\n",
    "\n",
    "quarter_indices = []\n",
    "prob_of_developing_new_strategy_per_quarter = []\n",
    "for current_quarter_index in range(0,20):\n",
    "    quarter_indices.append(current_quarter_index)\n",
    "    prob_of_developing_new_strategy_per_quarter.append(min(new_strategy_base_prob+new_strategy_ramping_up_rate*current_quarter_index,\\\n",
    "                                                           max_prob_new_strategy_per_quarter))\n",
    "\n",
    "plt.plot(quarter_indices,prob_of_developing_new_strategy_per_quarter)\n",
    "plt.xlabel(\"current_quarter_index\")\n",
    "plt.ylabel(\"probability_of_developing_new_strategy\")\n",
    "plt.show()\n",
    "\n",
    "def prob_of_new_strategy(group_launch_quarter,\\\n",
    "                         current_quarter_index,\\\n",
    "                         new_strategy_base_prob,\\\n",
    "                         new_strategy_ramping_up_rate,\\\n",
    "                         max_prob_new_strategy_per_quarter):\n",
    "    \n",
    "    quarter_history = current_quarter_index-group_launch_quarter\n",
    "    \n",
    "    prob_of_developing_new_strategy = min(new_strategy_base_prob+new_strategy_ramping_up_rate*quarter_history,\\\n",
    "                                          max_prob_new_strategy_per_quarter)\n",
    "    prob_of_not_developing_new_strategy = 1-prob_of_developing_new_strategy\n",
    "    \n",
    "    r = random.choices([True,False],\\\n",
    "                       weights = [prob_of_developing_new_strategy,prob_of_not_developing_new_strategy])\n",
    "    return r[0]\n",
    "    \n",
    "    "
   ]
  },
  {
   "cell_type": "code",
   "execution_count": 5,
   "id": "9712e47e",
   "metadata": {},
   "outputs": [],
   "source": [
    "def generating_one_incoming_scientist(scientist_index,\\\n",
    "                                      starting_term,\\\n",
    "                                      term_length_lower_bound,\\\n",
    "                                      term_length_upper_bound):\n",
    "    \n",
    "    term_length = random.randint(term_length_lower_bound,term_length_upper_bound)\n",
    "    scientist_info = {}\n",
    "    scientist_info['name'] = scientist_index\n",
    "    scientist_info['term_length'] = term_length\n",
    "    scientist_info['starting_term'] = starting_term\n",
    "    scientist_info['num_of_created_strategies'] = 0\n",
    "    return scientist_info"
   ]
  },
  {
   "cell_type": "code",
   "execution_count": 6,
   "id": "1dd9e556",
   "metadata": {},
   "outputs": [],
   "source": [
    "class generate_new_research_group():\n",
    "    \n",
    "    def __init__(self,group_launch_quarter):\n",
    "        self.scientists_affiliated_with_group = []\n",
    "        self.group_launch_quarter = group_launch_quarter\n",
    "    \n",
    "    def add_scientist(self,scientist_info):\n",
    "        self.scientists_affiliated_with_group.append(scientist_info)\n",
    "        \n",
    "    def retire_scientist(self,scientist_info):\n",
    "        self.scientists_affiliated_with_group.remove(scientist_info)\n",
    "    \n",
    "    def get_scientists(self):\n",
    "        return self.scientists_affiliated_with_group\n",
    "    \n",
    "    def get_group_launch_quarter(self):\n",
    "        return self.group_launch_quarter"
   ]
  },
  {
   "cell_type": "code",
   "execution_count": 7,
   "id": "1ee8f079",
   "metadata": {},
   "outputs": [],
   "source": [
    "class generate_new_strategy():\n",
    "    #this class defines the characteristics of a new strategy\n",
    "    \n",
    "    def __init__(self,capacity_bounds,annual_return_bounds,valid_time_bounds):\n",
    "        self.capacity = random.uniform(capacity_bounds[0], capacity_bounds[1])\n",
    "        self.annual_return = random.uniform(annual_return_bounds[0],annual_return_bounds[1])\n",
    "        self.quarterly_return = (1+self.annual_return)**(1/4)-1\n",
    "        self.valid_time = random.randint(valid_time_bounds[0],valid_time_bounds[1])\n",
    "        self.remaining_valid_time = self.valid_time\n",
    "        self.working_scientists = None\n",
    "        \n",
    "    def set_parameters(self,capacity,annual_return,valid_time,working_scientists):\n",
    "        #override the random parameters of the strategy characteristics\n",
    "        self.capacity = capacity\n",
    "        self.annual_return = annual_return\n",
    "        self.quarterly_return = (1+self.annual_return)**(1/4)-1\n",
    "        self.valid_time = valid_time\n",
    "        self.remaining_valid_time = self.valid_time\n",
    "        self.working_scientists = working_scientists\n",
    "\n",
    "    def decrease_valid_time(self):\n",
    "        self.remaining_valid_time -= 1\n",
    "        \n",
    "    def is_strategy_expired(self):\n",
    "        if self.remaining_valid_time <= 0:\n",
    "            return True\n",
    "        else:\n",
    "            return False\n",
    "    \n",
    "    def get_quarterly_return(self):\n",
    "        return self.quarterly_return\n",
    "    \n",
    "    def get_capacity(self):\n",
    "        return self.capacity\n",
    "    \n",
    "    def set_working_scientists(self,input_scientists):\n",
    "        self.working_scientists = input_scientists\n",
    "    \n",
    "    def get_working_scientists(self):\n",
    "        return self.working_scientists"
   ]
  },
  {
   "cell_type": "code",
   "execution_count": 8,
   "id": "53425144",
   "metadata": {},
   "outputs": [],
   "source": [
    "#other parameters used during the simulation\n",
    "\n",
    "new_scientist_term_length_bound = [2,4] #in unit of quarter\n",
    "#can be a random number between 0.1 billion to 1 billion\n",
    "#or 100 million to 1000 million\n",
    "individual_strategy_capacity_bounds = [100, 500]\n",
    "#we suppose the annual return of a new strategy\n",
    "#will be a random number between 2% to 20%\n",
    "individual_strategy_annual_return_bounds = [0.02,0.2]\n",
    "#suppose a new strategy has a valid time between \n",
    "#4 quarters and 12 quarters. (1-3 valid years)\n",
    "individual_strategy_valid_time_bounds = [4,12]\n",
    "\n",
    "init_total_capital = 100\n",
    "max_capacity_bound = 10000\n",
    "new_capital_distribution_bounds = [10, 500]\n",
    "\n",
    "current_scientists_percentage = 0.7\n",
    "past_scientists_percentage = 0.3\n",
    "platform_percentage = 1-current_scientists_percentage-past_scientists_percentage\n",
    "investor_percentage = 0.8\n",
    "platform_management_fee_percentage = 0.02\n",
    "platform_management_fee_percentage_per_quarter = (1+platform_management_fee_percentage)**(1/4)-1\n",
    "market_fluctuation_mean = 0.0\n",
    "market_fluctuation_standard_deviation = 0.05\n",
    "market_fluctuation_skew = -0.1"
   ]
  },
  {
   "cell_type": "code",
   "execution_count": 9,
   "id": "2ff8d69c",
   "metadata": {},
   "outputs": [],
   "source": [
    "from scipy.stats import skewnorm\n",
    "\n",
    "def main_simulation():\n",
    "\n",
    "    past_scientists = []\n",
    "    scientists_dividends = {}\n",
    "    current_research_groups = []\n",
    "    current_total_capital = init_total_capital\n",
    "    remaining_capital = current_total_capital\n",
    "    current_scientist_index = 0\n",
    "    all_current_valid_strategies = []\n",
    "    capital_for_each_strategy = []\n",
    "\n",
    "    #tracking parameters\n",
    "    platform_revenue_history = []\n",
    "    remaining_capital_history = []\n",
    "    valid_strategy_history = []\n",
    "    total_capital_history = []\n",
    "\n",
    "    for quarter_index in range(0,40):\n",
    "\n",
    "        #form a new research group when there is remaining capital\n",
    "        if remaining_capital > 0:\n",
    "            new_research_group = generate_new_research_group(quarter_index)\n",
    "            current_research_groups.append(new_research_group)\n",
    "\n",
    "\n",
    "        #num of new incoming scientists\n",
    "        num_of_new_incoming_scientists = generate_num_of_new_incoming_scientists(quarter_index,\\\n",
    "                                                        num_of_new_incoming_scientists_lower_bound_base,\\\n",
    "                                                        num_of_new_incoming_scientists_upper_bound_base,\\\n",
    "                                                        new_incoming_scientists_ramp_up_rate,\\\n",
    "                                                        max_of_num_of_new_incoming_scientists)\n",
    "        new_incoming_scientists = []\n",
    "        for _ in range(num_of_new_incoming_scientists):\n",
    "            new_scientist = generating_one_incoming_scientist(current_scientist_index,\\\n",
    "                                                              quarter_index,\\\n",
    "                                                              new_scientist_term_length_bound[0],\\\n",
    "                                                              new_scientist_term_length_bound[1])\n",
    "            current_scientist_index += 1\n",
    "            new_incoming_scientists.append(new_scientist)\n",
    "            scientists_dividends[new_scientist['name']] = 0\n",
    "\n",
    "\n",
    "        #add a scientist to a research group\n",
    "        for scientist in new_incoming_scientists:\n",
    "            picked_research_group_index = random.randint(0,len(current_research_groups)-1)\n",
    "            picked_research_group = current_research_groups[picked_research_group_index]\n",
    "            picked_research_group.add_scientist(scientist)\n",
    "\n",
    "\n",
    "        #generate new strategy\n",
    "        for research_group in current_research_groups:\n",
    "            if prob_of_new_strategy(research_group.get_group_launch_quarter(),\\\n",
    "                                     quarter_index,\\\n",
    "                                     new_strategy_base_prob,\\\n",
    "                                     new_strategy_ramping_up_rate,\\\n",
    "                                     max_prob_new_strategy_per_quarter):\n",
    "\n",
    "                new_strategy = generate_new_strategy(individual_strategy_capacity_bounds,\\\n",
    "                                                     individual_strategy_annual_return_bounds,\\\n",
    "                                                     individual_strategy_valid_time_bounds)\n",
    "                new_strategy.set_working_scientists(research_group.get_scientists())\n",
    "                all_current_valid_strategies.append(new_strategy)\n",
    "                for scientist in research_group.get_scientists():\n",
    "                    scientist['num_of_created_strategies'] += 1\n",
    "\n",
    "\n",
    "        #accept new capital\n",
    "        if current_total_capital < max_capacity_bound:\n",
    "            if prob_of_new_capital(quarter_index,\\\n",
    "                                   new_capital_base_prob,\\\n",
    "                                   new_capital_ramping_up_rate,\\\n",
    "                                   max_prob_new_capital_per_quarter):\n",
    "\n",
    "                new_capital_amount = random.uniform(new_capital_distribution_bounds[0], \\\n",
    "                                                    new_capital_distribution_bounds[1])\n",
    "                current_total_capital += new_capital_amount\n",
    "\n",
    "\n",
    "        #sort strategy by decreasing quarterly return\n",
    "        all_current_valid_strategies = sorted(all_current_valid_strategies,\\\n",
    "                                              key = lambda x:x.get_quarterly_return(),\\\n",
    "                                              reverse = True)\n",
    "\n",
    "        #reallocate capital\n",
    "        remaining_capital = current_total_capital\n",
    "        for strategy in all_current_valid_strategies:\n",
    "            max_capacity = strategy.get_capacity()\n",
    "            if remaining_capital > max_capacity:\n",
    "                capital_for_each_strategy.append(max_capacity)\n",
    "                remaining_capital -= max_capacity\n",
    "            else:\n",
    "                if remaining_capital > 0:\n",
    "                    capital_for_each_strategy.append(remaining_capital)\n",
    "                    remaining_capital -= remaining_capital\n",
    "                else:\n",
    "                    capital_for_each_strategy.append(0)\n",
    "\n",
    "\n",
    "        #distribute return\n",
    "        quarter_total_return_for_past_scientists = 0\n",
    "        quarter_platform_revenue = 0\n",
    "        quarter_random_fluctuation = skewnorm.rvs(a = market_fluctuation_skew, loc=market_fluctuation_mean, scale=market_fluctuation_standard_deviation)\n",
    "        for index,strategy in enumerate(all_current_valid_strategies):\n",
    "            ###\n",
    "            ### Here, we allow the actual market condition to vary\n",
    "            ### the quarter random fluctuation for each strategy is correlated due to general market condition\n",
    "            realized_quarterly_return = strategy.get_quarterly_return()+quarter_random_fluctuation\n",
    "            quarter_return = realized_quarterly_return*capital_for_each_strategy[index]\n",
    "\n",
    "            #assume investor put money back\n",
    "            current_total_capital += quarter_return*investor_percentage\n",
    "\n",
    "            quarter_return_after_investor = quarter_return*(1-investor_percentage)\n",
    "            quarter_return_for_current_scientists = quarter_return_after_investor*current_scientists_percentage\n",
    "            quarter_return_for_past_scientists = quarter_return_after_investor*past_scientists_percentage\n",
    "            quarter_return_for_platform = quarter_return_after_investor*platform_percentage\n",
    "\n",
    "            #for past scientists\n",
    "            quarter_total_return_for_past_scientists += quarter_return_for_past_scientists\n",
    "\n",
    "            num_of_current_scientists = len(strategy.get_working_scientists())\n",
    "            for scientist in strategy.get_working_scientists():\n",
    "                scientists_dividends[scientist['name']] += quarter_return_for_current_scientists/num_of_current_scientists\n",
    "\n",
    "            #platform_revenue\n",
    "            quarter_platform_revenue += quarter_return_for_platform\n",
    "\n",
    "        for scientist in past_scientists:\n",
    "            scientists_dividends[scientist['name']] += quarter_total_return_for_past_scientists/len(past_scientists)\n",
    "\n",
    "        #management fee\n",
    "        quarter_management_fee = current_total_capital*platform_management_fee_percentage_per_quarter\n",
    "        current_total_capital *= 1-platform_management_fee_percentage_per_quarter\n",
    "        quarter_platform_revenue += quarter_management_fee\n",
    "        platform_revenue_history.append(quarter_platform_revenue)\n",
    "\n",
    "        #retire scientist\n",
    "        for research_group in current_research_groups:\n",
    "            retiring_scientists = []\n",
    "            for scientist in research_group.get_scientists():\n",
    "                if scientist['term_length'] + scientist['starting_term'] > quarter_index:\n",
    "                    retiring_scientists.append(scientist)\n",
    "            for scientist in retiring_scientists:\n",
    "                research_group.retire_scientist(scientist)\n",
    "                if scientist['num_of_created_strategies'] > 0:\n",
    "                    past_scientists.append(scientist)\n",
    "\n",
    "\n",
    "        #retire strategy\n",
    "        still_valid_strategies = []\n",
    "        for strategy in all_current_valid_strategies:\n",
    "            strategy.decrease_valid_time()\n",
    "            if strategy.is_strategy_expired() == False:\n",
    "                still_valid_strategies.append(strategy)\n",
    "        all_current_valid_strategies = still_valid_strategies\n",
    "\n",
    "        remaining_capital_history.append(remaining_capital)\n",
    "        valid_strategy_history.append(len(all_current_valid_strategies))\n",
    "        total_capital_history.append(current_total_capital)\n",
    "        \n",
    "    return scientists_dividends,platform_revenue_history\n",
    "\n"
   ]
  },
  {
   "cell_type": "code",
   "execution_count": 10,
   "id": "7e846459",
   "metadata": {},
   "outputs": [],
   "source": [
    "scientists_dividends,platform_revenue_history = main_simulation()"
   ]
  },
  {
   "cell_type": "code",
   "execution_count": 11,
   "id": "7f0b59a1",
   "metadata": {},
   "outputs": [
    {
     "name": "stdout",
     "output_type": "stream",
     "text": [
      "total_university_lab_donation is 442.98926230212925 million USD\n",
      "avg individual lab donation is 2.0895566434688355 million USD\n",
      "number of benefited labs 252\n"
     ]
    },
    {
     "data": {
      "image/png": "[encoded data removed]",
      "text/plain": [
       "<Figure size 720x432 with 1 Axes>"
      ]
     },
     "metadata": {
      "needs_background": "light"
     },
     "output_type": "display_data"
    }
   ],
   "source": [
    "total_university_lab_return = 0\n",
    "scientist_return_distribution = []\n",
    "for key in scientists_dividends.keys():\n",
    "    total_university_lab_return += scientists_dividends[key]\n",
    "    if scientists_dividends[key] > 0:\n",
    "        scientist_return_distribution.append(scientists_dividends[key])\n",
    "        \n",
    "print('total_university_lab_donation is',total_university_lab_return,'million USD')\n",
    "print('avg individual lab donation is',np.mean(scientist_return_distribution),'million USD')\n",
    "print('number of benefited labs',len(scientist_return_distribution))\n",
    "plt.hist(scientist_return_distribution,bins = 100)\n",
    "plt.title('Histogram of individual lab return')\n",
    "plt.ylabel('Frequency')\n",
    "plt.xlabel('individual lab donation (in million USD)')\n",
    "plt.show()"
   ]
  },
  {
   "cell_type": "code",
   "execution_count": 12,
   "id": "c84d5590",
   "metadata": {},
   "outputs": [
    {
     "name": "stdout",
     "output_type": "stream",
     "text": [
      "total platform revenue is 646.8990729882572 million USD\n"
     ]
    },
    {
     "data": {
      "image/png": "[encoded data removed]",
      "text/plain": [
       "<Figure size 720x432 with 1 Axes>"
      ]
     },
     "metadata": {
      "needs_background": "light"
     },
     "output_type": "display_data"
    }
   ],
   "source": [
    "print('total platform revenue is',np.sum(platform_revenue_history),'million USD')\n",
    "\n",
    "plt.title('Platform revenue per quarter')\n",
    "plt.ylabel('revenue (million USD)')\n",
    "plt.xlabel('quarter index')\n",
    "plt.plot(platform_revenue_history)\n",
    "plt.show()\n"
   ]
  },
  {
   "cell_type": "markdown",
   "id": "b587e9b2",
   "metadata": {},
   "source": [
    "# Repeat the simulation for 1000 times\n",
    "\n",
    "now, we want to run the simulation for 1000 times to get a confidence interval for the key parameters"
   ]
  },
  {
   "cell_type": "code",
   "execution_count": 13,
   "id": "52c9c671",
   "metadata": {},
   "outputs": [],
   "source": [
    "distribution_of_avg_lab_return = []\n",
    "distribution_of_num_of_benefited_labs = []\n",
    "distribution_of_total_platform_revenue = []\n",
    "\n",
    "\n",
    "for _ in range(1000):\n",
    "    scientists_dividends,platform_revenue_history = main_simulation()\n",
    "    \n",
    "    total_university_lab_return = 0\n",
    "    scientist_return_distribution = []\n",
    "    for key in scientists_dividends.keys():\n",
    "        total_university_lab_return += scientists_dividends[key]\n",
    "        if scientists_dividends[key] > 0:\n",
    "            scientist_return_distribution.append(scientists_dividends[key])\n",
    "\n",
    "    distribution_of_avg_lab_return.append(np.mean(scientist_return_distribution))\n",
    "    distribution_of_num_of_benefited_labs.append(len(scientist_return_distribution))\n",
    "    distribution_of_total_platform_revenue.append(np.sum(platform_revenue_history))\n",
    "    "
   ]
  },
  {
   "cell_type": "code",
   "execution_count": 14,
   "id": "c0a876b3",
   "metadata": {},
   "outputs": [
    {
     "name": "stdout",
     "output_type": "stream",
     "text": [
      "the 95% confidence interval for the average total research lab donation is\n",
      "[0.393692 million USD,  4.297620 million USD]\n",
      "the mean is 1.9022985013047782 million USD\n"
     ]
    },
    {
     "data": {
      "image/png": "[encoded data removed]",
      "text/plain": [
       "<Figure size 720x432 with 1 Axes>"
      ]
     },
     "metadata": {
      "needs_background": "light"
     },
     "output_type": "display_data"
    }
   ],
   "source": [
    "\n",
    "\n",
    "lower_quantile = np.quantile(distribution_of_avg_lab_return, 0.025)\n",
    "upper_quantile = np.quantile(distribution_of_avg_lab_return,0.975)\n",
    "\n",
    "print('the 95% confidence interval for the average total research lab donation is')\n",
    "print('[%f million USD,  %f million USD]'%(lower_quantile,upper_quantile))\n",
    "print('the mean is',np.mean(distribution_of_avg_lab_return),'million USD')\n",
    "\n",
    "plt.title('Histogram of repeated simulation for average total research lab donation')\n",
    "plt.ylabel('Frequency')\n",
    "plt.xlabel('individual lab donation (in million USD)')\n",
    "plt.hist(distribution_of_avg_lab_return,bins = 100)\n",
    "plt.show()"
   ]
  },
  {
   "cell_type": "code",
   "execution_count": 15,
   "id": "1d77600a",
   "metadata": {},
   "outputs": [
    {
     "name": "stdout",
     "output_type": "stream",
     "text": [
      "the 95% confidence interval for the number of benefited lab is\n",
      "[187.975000,  299.025000]\n",
      "the mean is 249.262\n"
     ]
    },
    {
     "data": {
      "image/png": "[encoded data removed]",
      "text/plain": [
       "<Figure size 720x432 with 1 Axes>"
      ]
     },
     "metadata": {
      "needs_background": "light"
     },
     "output_type": "display_data"
    }
   ],
   "source": [
    "\n",
    "\n",
    "lower_quantile = np.quantile(distribution_of_num_of_benefited_labs, 0.025)\n",
    "upper_quantile = np.quantile(distribution_of_num_of_benefited_labs,0.975)\n",
    "\n",
    "\n",
    "print('the 95% confidence interval for the number of benefited lab is')\n",
    "print('[%f,  %f]'%(lower_quantile,upper_quantile))\n",
    "print('the mean is',np.mean(distribution_of_num_of_benefited_labs))\n",
    "\n",
    "plt.title('Histogram of repeated simulation for number of benefited lab')\n",
    "plt.ylabel('Frequency')\n",
    "plt.xlabel('number of benefited lab')\n",
    "plt.hist(distribution_of_num_of_benefited_labs,bins = 100)\n",
    "plt.show()"
   ]
  },
  {
   "cell_type": "code",
   "execution_count": 16,
   "id": "f2671d5e",
   "metadata": {},
   "outputs": [
    {
     "name": "stdout",
     "output_type": "stream",
     "text": [
      "the 95% confidence interval for the total platform revenue is\n",
      "[322.359865 million USD,  975.504996 million USD]\n",
      "the mean is 597.7042872702715 million USD\n"
     ]
    },
    {
     "data": {
      "image/png": "[encoded data removed]",
      "text/plain": [
       "<Figure size 720x432 with 1 Axes>"
      ]
     },
     "metadata": {
      "needs_background": "light"
     },
     "output_type": "display_data"
    }
   ],
   "source": [
    "\n",
    "lower_quantile = np.quantile(distribution_of_total_platform_revenue, 0.025)\n",
    "upper_quantile = np.quantile(distribution_of_total_platform_revenue,0.975)\n",
    "\n",
    "print('the 95% confidence interval for the total platform revenue is')\n",
    "print('[%f million USD,  %f million USD]'%(lower_quantile,upper_quantile))\n",
    "print('the mean is',np.mean(distribution_of_total_platform_revenue),'million USD')\n",
    "\n",
    "plt.title('Histogram of repeated simulation for total platform revenue')\n",
    "plt.ylabel('Frequency')\n",
    "plt.xlabel('total platform revenue (million USD)')\n",
    "\n",
    "plt.hist(distribution_of_total_platform_revenue,bins = 100)\n",
    "plt.show()"
   ]
  },
  {
   "cell_type": "code",
   "execution_count": null,
   "id": "dbcaaf31",
   "metadata": {},
   "outputs": [],
   "source": []
  }
 ],
 "metadata": {
  "kernelspec": {
   "display_name": "Python 3 (ipykernel)",
   "language": "python",
   "name": "python3"
  },
  "language_info": {
   "codemirror_mode": {
    "name": "ipython",
    "version": 3
   },
   "file_extension": ".py",
   "mimetype": "text/x-python",
   "name": "python",
   "nbconvert_exporter": "python",
   "pygments_lexer": "ipython3",
   "version": "3.9.7"
  }
 },
 "nbformat": 4,
 "nbformat_minor": 5
}
